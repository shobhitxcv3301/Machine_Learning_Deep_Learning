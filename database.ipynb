{
 "cells": [
  {
   "cell_type": "code",
   "execution_count": 53,
   "metadata": {},
   "outputs": [],
   "source": [
    "from sqlalchemy import create_engine,Column,Integer,String\n",
    "from sqlalchemy.orm import declarative_base,sessionmaker"
   ]
  },
  {
   "cell_type": "markdown",
   "metadata": {},
   "source": [
    "- create_engine: it is used to make connections from the database\n",
    "- column- defines columns in a database\n",
    "- integer and string- datatypes of values in database"
   ]
  },
  {
   "cell_type": "code",
   "execution_count": 54,
   "metadata": {},
   "outputs": [],
   "source": [
    "engine = create_engine('sqlite:///user.db')"
   ]
  },
  {
   "cell_type": "code",
   "execution_count": 55,
   "metadata": {},
   "outputs": [],
   "source": [
    "#this line is used to create table in a db\n",
    "Base = declarative_base()"
   ]
  },
  {
   "cell_type": "code",
   "execution_count": 56,
   "metadata": {},
   "outputs": [],
   "source": [
    "class User(Base):\n",
    "    __tablename__ = \"Users\"\n",
    "    id = Column(Integer,primary_key=True)\n",
    "    name= Column(String)\n",
    "    password = Column(String)"
   ]
  },
  {
   "cell_type": "code",
   "execution_count": 57,
   "metadata": {},
   "outputs": [],
   "source": [
    "Base.metadata.create_all(engine)"
   ]
  },
  {
   "cell_type": "code",
   "execution_count": 58,
   "metadata": {},
   "outputs": [],
   "source": [
    "#this line tell sessionmaker to use engine we created\n",
    "Session = sessionmaker(bind=engine)\n",
    "# this line creates a session object\n",
    "session = Session()"
   ]
  },
  {
   "cell_type": "code",
   "execution_count": 59,
   "metadata": {},
   "outputs": [],
   "source": [
    "#add a user to the database\n",
    "new_user= User(name=\"Bob\", password=\"12345\")\n",
    "session.add(new_user)\n",
    "session.commit()"
   ]
  },
  {
   "cell_type": "code",
   "execution_count": 60,
   "metadata": {},
   "outputs": [],
   "source": [
    "new_user= User(name=\"John\", password=\"67891\")\n",
    "session.add(new_user)\n",
    "session.commit()"
   ]
  },
  {
   "cell_type": "code",
   "execution_count": 62,
   "metadata": {},
   "outputs": [
    {
     "name": "stdout",
     "output_type": "stream",
     "text": [
      "ID:1,Name:Bob,Password:12345\n",
      "ID:2,Name:John,Password:67891\n",
      "ID:3,Name:Bob,Password:12345\n",
      "ID:4,Name:John,Password:67891\n",
      "ID:5,Name:Bob,Password:12345\n",
      "ID:6,Name:John,Password:67891\n"
     ]
    }
   ],
   "source": [
    "#retrive all user\n",
    "users=session.query(User).all()\n",
    "for user in users:\n",
    "    print(f'ID:{user.id},Name:{user.name},Password:{user.password}')"
   ]
  },
  {
   "cell_type": "code",
   "execution_count": 63,
   "metadata": {},
   "outputs": [],
   "source": [
    "#update users\n",
    "user=session.query(User).filter_by(id=1).first()\n",
    "user.name='Bob Smith'\n",
    "session.commit()"
   ]
  },
  {
   "cell_type": "code",
   "execution_count": 64,
   "metadata": {},
   "outputs": [],
   "source": [
    "#delete users\n",
    "user=session.query(User).filter_by(id=1).first()\n",
    "session.delete(user)\n",
    "session.commit()"
   ]
  },
  {
   "cell_type": "code",
   "execution_count": 65,
   "metadata": {},
   "outputs": [
    {
     "name": "stdout",
     "output_type": "stream",
     "text": [
      "ID:2,Name:John,Password:67891\n",
      "ID:3,Name:Bob,Password:12345\n",
      "ID:4,Name:John,Password:67891\n",
      "ID:5,Name:Bob,Password:12345\n",
      "ID:6,Name:John,Password:67891\n"
     ]
    }
   ],
   "source": [
    "#retrive all user\n",
    "users=session.query(User).all()\n",
    "for user in users:\n",
    "    print(f'ID:{user.id},Name:{user.name},Password:{user.password}')"
   ]
  }
 ],
 "metadata": {
  "kernelspec": {
   "display_name": "base",
   "language": "python",
   "name": "python3"
  },
  "language_info": {
   "codemirror_mode": {
    "name": "ipython",
    "version": 3
   },
   "file_extension": ".py",
   "mimetype": "text/x-python",
   "name": "python",
   "nbconvert_exporter": "python",
   "pygments_lexer": "ipython3",
   "version": "3.12.9"
  }
 },
 "nbformat": 4,
 "nbformat_minor": 2
}
